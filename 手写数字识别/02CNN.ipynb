{
 "cells": [
  {
   "cell_type": "code",
   "execution_count": null,
   "metadata": {},
   "outputs": [
    {
     "name": "stdout",
     "output_type": "stream",
     "text": [
      "WARNING:tensorflow:From c:\\program files (x86)\\python3.6.4-64\\lib\\site-packages\\tensorflow\\contrib\\learn\\python\\learn\\datasets\\base.py:198: retry (from tensorflow.contrib.learn.python.learn.datasets.base) is deprecated and will be removed in a future version.\n",
      "Instructions for updating:\n",
      "Use the retry module or similar alternatives.\n",
      "WARNING:tensorflow:From <ipython-input-1-1ecbbba26b5e>:6: read_data_sets (from tensorflow.contrib.learn.python.learn.datasets.mnist) is deprecated and will be removed in a future version.\n",
      "Instructions for updating:\n",
      "Please use alternatives such as official/mnist/dataset.py from tensorflow/models.\n",
      "WARNING:tensorflow:From c:\\program files (x86)\\python3.6.4-64\\lib\\site-packages\\tensorflow\\contrib\\learn\\python\\learn\\datasets\\mnist.py:260: maybe_download (from tensorflow.contrib.learn.python.learn.datasets.base) is deprecated and will be removed in a future version.\n",
      "Instructions for updating:\n",
      "Please write your own downloading logic.\n",
      "WARNING:tensorflow:From c:\\program files (x86)\\python3.6.4-64\\lib\\site-packages\\tensorflow\\contrib\\learn\\python\\learn\\datasets\\mnist.py:262: extract_images (from tensorflow.contrib.learn.python.learn.datasets.mnist) is deprecated and will be removed in a future version.\n",
      "Instructions for updating:\n",
      "Please use tf.data to implement this functionality.\n",
      "Extracting MNIST_data\\train-images-idx3-ubyte.gz\n",
      "WARNING:tensorflow:From c:\\program files (x86)\\python3.6.4-64\\lib\\site-packages\\tensorflow\\contrib\\learn\\python\\learn\\datasets\\mnist.py:267: extract_labels (from tensorflow.contrib.learn.python.learn.datasets.mnist) is deprecated and will be removed in a future version.\n",
      "Instructions for updating:\n",
      "Please use tf.data to implement this functionality.\n",
      "Extracting MNIST_data\\train-labels-idx1-ubyte.gz\n",
      "WARNING:tensorflow:From c:\\program files (x86)\\python3.6.4-64\\lib\\site-packages\\tensorflow\\contrib\\learn\\python\\learn\\datasets\\mnist.py:110: dense_to_one_hot (from tensorflow.contrib.learn.python.learn.datasets.mnist) is deprecated and will be removed in a future version.\n",
      "Instructions for updating:\n",
      "Please use tf.one_hot on tensors.\n",
      "Extracting MNIST_data\\t10k-images-idx3-ubyte.gz\n",
      "Extracting MNIST_data\\t10k-labels-idx1-ubyte.gz\n",
      "WARNING:tensorflow:From c:\\program files (x86)\\python3.6.4-64\\lib\\site-packages\\tensorflow\\contrib\\learn\\python\\learn\\datasets\\mnist.py:290: DataSet.__init__ (from tensorflow.contrib.learn.python.learn.datasets.mnist) is deprecated and will be removed in a future version.\n",
      "Instructions for updating:\n",
      "Please use alternatives such as official/mnist/dataset.py from tensorflow/models.\n"
     ]
    }
   ],
   "source": [
    "import numpy as np\n",
    "import tensorflow as tf\n",
    "from tensorflow.examples.tutorials.mnist import input_data\n",
    "\n",
    "# 1.准备数据 参数1：文件路径 参数2：oneHot 数组内有一个内容为1则其他全为0\n",
    "mnist = input_data.read_data_sets('MNIST_data',one_hot=True)\n",
    "imageInput = tf.placeholder(tf.float32,[None,784])\n",
    "labelInput = tf.placeholder(tf.float32,[None,10])\n",
    "\n",
    "# 2.卷积运算\n",
    "# 维度转换 n*784->m*28*28*1 2dim->4dim\n",
    "imageInputReshape = tf.reshape(imageInput,[-1,28,28,1])\n",
    "# 进行卷积运算：权重w0与偏移b\n",
    "# 实现正态分布的权重矩阵 参数1：维度(卷积内核：5*5 输出：32 输入;1) 参数2：方差\n",
    "w0 = tf.Variable(tf.truncated_normal([5,5,1,32],stddev = 0.1))\n",
    "b0 = tf.Variable(tf.constant(0.1,shape=[32]))\n",
    "# layer1:激励函数+卷积运算\n",
    "layer1 = tf.nn.relu(tf.nn.conv2d(imageInputReshape,w0,strides=(1,1,1,1),padding='SAME')+b0)\n",
    "# 池化层 降维：m*28*28*32 / 1*4*4*1 = m*7*7*32\n",
    "layer1_pool = tf.nn.max_pool(layer1,ksize=[1,4,4,1],strides=[1,4,4,1],padding='SAME')\n",
    "# layer2 out:softmax(激励函数+乘加运算) softmax一种回归计算 \n",
    "w1 = tf.Variable(tf.truncated_normal([7*7*32,1024],stddev=0.1))\n",
    "b1 = tf.Variable(tf.constant(0.1,shape=[1024]))\n",
    "# n*7*7*32 -> n*1568(7*7*32)\n",
    "h_reshape = tf.reshape(layer1_pool,[-1,7*7*32])\n",
    "# n*1568(7*7*32) x 1568(7*7*32)*1024 = n*1024\n",
    "h1 = tf.nn.relu(tf.matmul(h_reshape,w1)+b1)\n",
    "# softmax(n*1024 x 1024*10 = n*10)表示n张图片在0-9即这10个数字中分布的概率\n",
    "w2 = tf.Variable(tf.truncated_normal([1024,10],stddev=0.1))\n",
    "b2 = tf.Variable(tf.constant(0.1,shape=[10]))\n",
    "predict = tf.nn.softmax(tf.matmul(h1,w2)+b2)\n",
    "# 获得正确结果出现的概率 n*10的矩阵 此处的乘法不是矩阵乘法而是普通乘法\n",
    "pRight = labelInput*tf.log(predict)\n",
    "pRightSum = 0\n",
    "# 求每次测试100份数据的总正确概率\n",
    "for m in range(0,100):\n",
    "    for n in range(0,10):\n",
    "        pRightSum = pRightSum + pRight[m,n]\n",
    "# 求均值。并通过取反使得满足概率越大误差越小的前提，然后采用梯度下降法\n",
    "loss = -1*pRightSum/100    \n",
    "# 训练\n",
    "train = tf.train.GradientDescentOptimizer(0.01).minimize(loss)\n",
    "with tf.Session() as sess:\n",
    "    sess.run(tf.global_variables_initializer())\n",
    "    for i in range(100):\n",
    "        # 每次读取500张进行训练\n",
    "        images,labels = mnist.train.next_batch(500)\n",
    "        sess.run(train,feed_dict={imageInput:images,labelInput:labels})\n",
    "        predict_test = sess.run(predict,feed_dict={imageInput:mnist.test.images,labelInput:labels})\n",
    "        # 观察预测结果是是否等于真值\n",
    "        equal = tf.equal(tf.arg_max(predict_test,1),tf.arg_max(mnist.test.label,1))\n",
    "        print(equal)\n",
    "        # 计算均值\n",
    "        equal_float = tf.reduce_mean(tf.cast(equal,tf.float32))\n",
    "        equal_reslut = sess.run(equal_float,feed_dict={imageInput:mnist.test.images,labelInput:mnist.test.labels})\n",
    "        print(equal_reslut)"
   ]
  },
  {
   "cell_type": "code",
   "execution_count": null,
   "metadata": {},
   "outputs": [],
   "source": []
  }
 ],
 "metadata": {
  "kernelspec": {
   "display_name": "Python 3",
   "language": "python",
   "name": "python3"
  },
  "language_info": {
   "codemirror_mode": {
    "name": "ipython",
    "version": 3
   },
   "file_extension": ".py",
   "mimetype": "text/x-python",
   "name": "python",
   "nbconvert_exporter": "python",
   "pygments_lexer": "ipython3",
   "version": "3.6.4"
  }
 },
 "nbformat": 4,
 "nbformat_minor": 2
}

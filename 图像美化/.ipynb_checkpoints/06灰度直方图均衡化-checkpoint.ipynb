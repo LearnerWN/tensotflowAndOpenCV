{
 "cells": [
  {
   "cell_type": "code",
   "execution_count": 10,
   "metadata": {},
   "outputs": [
    {
     "data": {
      "image/png": "[encoded data removed]",
      "text/plain": [
       "<Figure size 432x288 with 1 Axes>"
      ]
     },
     "metadata": {},
     "output_type": "display_data"
    },
    {
     "data": {
      "text/plain": [
       "-1"
      ]
     },
     "execution_count": 10,
     "metadata": {},
     "output_type": "execute_result"
    }
   ],
   "source": [
    "# 直方图本质：统计每个灰度等级（0-255）出现的概率，所以直方图的横坐标为0-255即像素范围，纵坐标为概率P\n",
    "# 累计概率：当前灰度等级的累计概率等于从0级开始到其为止的所有概率之和\n",
    "# 均衡化算法原理：灰度等级一共256个（0-255），假设灰度等级100的累计概率为0.5，则均衡化后其灰度值转换为0.5*255\n",
    "# 均衡化可以提高亮度和图片对比度\n",
    "import cv2\n",
    "import numpy as np\n",
    "import matplotlib.pyplot as plt\n",
    "img = cv2.imread('image0.jpg',1)\n",
    "imgInfo = img.shape\n",
    "height = imgInfo[0]\n",
    "width = imgInfo[1]\n",
    "gray = cv2.cvtColor(img,cv2.COLOR_BGR2GRAY)\n",
    "cv2.imshow('gray',gray)\n",
    "# 统计灰度等级\n",
    "count = np.zeros(256,np.float32)\n",
    "for i in range(0,height):\n",
    "    for j in range(0,width):\n",
    "        pixel = gray[i,j]\n",
    "        index = int(pixel)\n",
    "        count[index] = count[index]+1\n",
    "# 计算每个灰度等级出现的概率\n",
    "for i in range(0,255):\n",
    "    count[i] = count[i]/(height*width)\n",
    "# 计算累计概率\n",
    "sum = float(0)\n",
    "for i in range(0,256):\n",
    "    sum = sum+count[i]\n",
    "    count[i] = sum\n",
    "# 计算映射表\n",
    "map = np.zeros(256,np.uint16)\n",
    "for i in range(0,256):\n",
    "    map[i] = np.uint16(count[i]*255)\n",
    "# 进行像素映射\n",
    "for i in range(0,height):\n",
    "    for j in range(0,width):\n",
    "        pixel = gray[i,j]\n",
    "        gray[i,j] = map[pixel]\n",
    "x = np.linspace(0,255,256)\n",
    "y = map\n",
    "plt.bar(x,y,0.8,alpha=1,color='g')\n",
    "plt.show()\n",
    "\n",
    "cv2.imshow('grayHist',gray)\n",
    "cv2.waitKey(0)"
   ]
  },
  {
   "cell_type": "code",
   "execution_count": null,
   "metadata": {},
   "outputs": [],
   "source": []
  }
 ],
 "metadata": {
  "kernelspec": {
   "display_name": "Python 3",
   "language": "python",
   "name": "python3"
  },
  "language_info": {
   "codemirror_mode": {
    "name": "ipython",
    "version": 3
   },
   "file_extension": ".py",
   "mimetype": "text/x-python",
   "name": "python",
   "nbconvert_exporter": "python",
   "pygments_lexer": "ipython3",
   "version": "3.6.4"
  }
 },
 "nbformat": 4,
 "nbformat_minor": 2
}

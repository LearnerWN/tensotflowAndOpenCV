{
 "cells": [
  {
   "cell_type": "code",
   "execution_count": 3,
   "metadata": {},
   "outputs": [
    {
     "data": {
      "text/plain": [
       "-1"
      ]
     },
     "execution_count": 3,
     "metadata": {},
     "output_type": "execute_result"
    }
   ],
   "source": [
    "# 直方图本质：统计每个灰度等级（0-255）出现的概率，所以直方图的横坐标为0-255即像素范围，纵坐标为概率P\n",
    "# 累计概率：当前灰度等级的累计概率等于从0级开始到其为止的所有概率之和\n",
    "# 均衡化算法原理：灰度等级一共256个（0-255），假设灰度等级100的累计概率为0.5，则均衡化后其灰度值转换为0.5*255\n",
    "# 均衡化可以提高亮度和图片对比度\n",
    "import cv2\n",
    "import numpy as np\n",
    "import matplotlib.pyplot as plt\n",
    "img = cv2.imread('image0.jpg',1)\n",
    "cv2.imshow('img',img)\n",
    "imgInfo = img.shape\n",
    "height = imgInfo[0]\n",
    "width = imgInfo[1]\n",
    "# 统计bgr概率\n",
    "count_b = np.zeros(256,np.float32)\n",
    "count_g = np.zeros(256,np.float32)\n",
    "count_r = np.zeros(256,np.float32)\n",
    "# 统计灰度等级\n",
    "count = np.zeros(256,np.float32)\n",
    "for i in range(0,height):\n",
    "    for j in range(0,width):\n",
    "        (b,g,r) = img[i,j]\n",
    "        index_b = int(b)\n",
    "        index_g = int(g)\n",
    "        index_r = int(r)\n",
    "        count_b[index_b] = count_b[index_b]+1\n",
    "        count_g[index_g] = count_g[index_g]+1\n",
    "        count_r[index_r] = count_r[index_r]+1\n",
    "# 计算每个灰度等级出现的概率\n",
    "for i in range(0,256):\n",
    "    count_b[i] = count_b[i]/(height*width)\n",
    "    count_g[i] = count_g[i]/(height*width)\n",
    "    count_r[i] = count_r[i]/(height*width)\n",
    "# 计算累计概率\n",
    "sum_b = float(0)\n",
    "sum_g = float(0)\n",
    "sum_r = float(0)\n",
    "for i in range(0,256):\n",
    "    sum_b = sum_b+count_b[i]\n",
    "    sum_g = sum_g+count_g[i]\n",
    "    sum_r = sum_r+count_r[i]\n",
    "    count_b[i] = sum_b\n",
    "    count_g[i] = sum_g\n",
    "    count_r[i] = sum_r\n",
    "# 计算映射表\n",
    "map_b = np.zeros(256,np.uint16)\n",
    "map_g = np.zeros(256,np.uint16)\n",
    "map_r = np.zeros(256,np.uint16)\n",
    "for i in range(0,256):\n",
    "    map_b[i] = np.uint16(count_b[i]*255)\n",
    "    map_g[i] = np.uint16(count_g[i]*255)\n",
    "    map_r[i] = np.uint16(count_r[i]*255)\n",
    "# 进行像素映射\n",
    "dst = np.zeros((height,width,3),np.uint8)\n",
    "for i in range(0,height):\n",
    "    for j in range(0,width):\n",
    "        (b,g,r) = img[i,j]\n",
    "        dst[i,j] = (map_b[b],map_g[g],map_r[r])\n",
    "cv2.imshow('Hist',dst)\n",
    "cv2.waitKey(0)"
   ]
  },
  {
   "cell_type": "code",
   "execution_count": null,
   "metadata": {},
   "outputs": [],
   "source": []
  }
 ],
 "metadata": {
  "kernelspec": {
   "display_name": "Python 3",
   "language": "python",
   "name": "python3"
  },
  "language_info": {
   "codemirror_mode": {
    "name": "ipython",
    "version": 3
   },
   "file_extension": ".py",
   "mimetype": "text/x-python",
   "name": "python",
   "nbconvert_exporter": "python",
   "pygments_lexer": "ipython3",
   "version": "3.6.4"
  }
 },
 "nbformat": 4,
 "nbformat_minor": 2
}
